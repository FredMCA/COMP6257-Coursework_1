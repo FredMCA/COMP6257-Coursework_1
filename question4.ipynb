{
 "cells": [
  {
   "cell_type": "code",
   "execution_count": 3,
   "metadata": {},
   "outputs": [],
   "source": [
    "import numpy as np"
   ]
  },
  {
   "cell_type": "code",
   "execution_count": 94,
   "metadata": {},
   "outputs": [],
   "source": [
    "def probability(w):\n",
    "    val_1 = np.random.normal([2, 5], [[2,1],[1,2]])\n",
    "    val_2 = np.random.normal([3,1], [[0.1,0],[0,0.1]])\n",
    "    val_3 = np.random.normal(w, [[2,1],[1,2]])\n",
    "    val_4 = np.random.normal(w, [[0.1,0],[0,0.1]])\n",
    "    return val_1 + val_2 + val_3 + val_4"
   ]
  },
  {
   "cell_type": "markdown",
   "metadata": {},
   "source": [
    "# Rejection Sampling"
   ]
  },
  {
   "cell_type": "code",
   "execution_count": 101,
   "metadata": {},
   "outputs": [
    {
     "name": "stdout",
     "output_type": "stream",
     "text": [
      "[[11.09126223  6.67438776]\n",
      " [ 5.56624908  1.58599085]]\n"
     ]
    }
   ],
   "source": [
    "print(probability([0.5,0.5]))"
   ]
  },
  {
   "cell_type": "markdown",
   "metadata": {},
   "source": [
    "# Importance Sampling"
   ]
  },
  {
   "cell_type": "code",
   "execution_count": null,
   "metadata": {},
   "outputs": [],
   "source": []
  }
 ],
 "metadata": {
  "kernelspec": {
   "display_name": "Python 3.9.13 ('base')",
   "language": "python",
   "name": "python3"
  },
  "language_info": {
   "codemirror_mode": {
    "name": "ipython",
    "version": 3
   },
   "file_extension": ".py",
   "mimetype": "text/x-python",
   "name": "python",
   "nbconvert_exporter": "python",
   "pygments_lexer": "ipython3",
   "version": "3.9.13"
  },
  "orig_nbformat": 4,
  "vscode": {
   "interpreter": {
    "hash": "6da435537e4abb380b01d4d17b336a209d89745329a7995f991d4a2858b462e6"
   }
  }
 },
 "nbformat": 4,
 "nbformat_minor": 2
}
